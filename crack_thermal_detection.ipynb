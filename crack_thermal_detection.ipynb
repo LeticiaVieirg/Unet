{
  "nbformat": 4,
  "nbformat_minor": 0,
  "metadata": {
    "colab": {
      "provenance": [],
      "gpuType": "T4",
      "authorship_tag": "ABX9TyOqOQ6++FLOaamUSYa5ltHu",
      "include_colab_link": true
    },
    "kernelspec": {
      "name": "python3",
      "display_name": "Python 3"
    },
    "language_info": {
      "name": "python"
    },
    "accelerator": "GPU"
  },
  "cells": [
    {
      "cell_type": "markdown",
      "metadata": {
        "id": "view-in-github",
        "colab_type": "text"
      },
      "source": [
        "<a href=\"https://colab.research.google.com/github/LeticiaVieirg/Unet/blob/main/crack_thermal_detection.ipynb\" target=\"_parent\"><img src=\"https://colab.research.google.com/assets/colab-badge.svg\" alt=\"Open In Colab\"/></a>"
      ]
    },
    {
      "cell_type": "markdown",
      "source": [
        "1. Importação das bibliotecas"
      ],
      "metadata": {
        "id": "1IbeGlfh-BEZ"
      }
    },
    {
      "cell_type": "code",
      "execution_count": 38,
      "metadata": {
        "id": "t79FOU0D9X-4"
      },
      "outputs": [],
      "source": [
        "import cv2\n",
        "from keras.models import Sequential, Model\n",
        "from keras.layers import Conv2D, MaxPooling2D, Dense, Dropout, Flatten, BatchNormalization, Activation, Add, Input, AveragePooling2D\n",
        "from keras.optimizers import Adam\n",
        "from tensorflow.keras.preprocessing.image import ImageDataGenerator\n",
        "from keras import regularizers\n",
        "from tensorflow.keras.callbacks import EarlyStopping\n",
        "\n",
        "import numpy as np\n",
        "import os, sys\n",
        "from scipy import ndimage\n",
        "import cv2\n",
        "import matplotlib.pyplot as plt\n",
        "import itertools\n",
        "import scipy.stats\n",
        "import tensorflow as tf\n",
        "from keras import applications, optimizers, Input\n",
        "from keras.utils import to_categorical\n",
        "from tensorflow.keras.preprocessing.image import ImageDataGenerator, array_to_img, img_to_array, load_img\n",
        "from sklearn.model_selection import train_test_split\n",
        "from sklearn.metrics import confusion_matrix, ConfusionMatrixDisplay, accuracy_score, precision_score, recall_score, f1_score\n",
        "from sklearn.utils.multiclass import unique_labels\n"
      ]
    },
    {
      "cell_type": "markdown",
      "source": [
        "2. Acesso ao Google Colab para os arquivos\n"
      ],
      "metadata": {
        "id": "XZ_yqIsCaOBP"
      }
    },
    {
      "cell_type": "code",
      "source": [
        "from google.colab import drive\n",
        "drive.mount('/content/drive')"
      ],
      "metadata": {
        "colab": {
          "base_uri": "https://localhost:8080/"
        },
        "id": "XlrGt9ma5B71",
        "outputId": "ad8e5e29-09ac-4f42-c403-bcbbcd6195f6"
      },
      "execution_count": 25,
      "outputs": [
        {
          "output_type": "stream",
          "name": "stdout",
          "text": [
            "Drive already mounted at /content/drive; to attempt to forcibly remount, call drive.mount(\"/content/drive\", force_remount=True).\n"
          ]
        }
      ]
    },
    {
      "cell_type": "code",
      "source": [
        "folder='/content/drive/MyDrive/dataset/dataset'"
      ],
      "metadata": {
        "id": "TJiCjqV-hjp-"
      },
      "execution_count": 26,
      "outputs": []
    },
    {
      "cell_type": "markdown",
      "source": [
        "3. ESTRUTURANDO O DATASET"
      ],
      "metadata": {
        "id": "LRilAi8taq0V"
      }
    },
    {
      "cell_type": "markdown",
      "source": [],
      "metadata": {
        "id": "1cUkbfhjadrc"
      }
    },
    {
      "cell_type": "code",
      "source": [
        "image_width = 48\n",
        "image_height = 48\n",
        "channels = 3\n",
        "\n",
        "train_files = []\n",
        "i=0\n",
        "for classes in ['Positive', 'Negative']:\n",
        "    print(os.path.join(folder, classes))\n",
        "    onlyfiles = [f for f in os.listdir(os.path.join(folder, classes)) if os.path.isfile(os.path.join(folder, classes, f ))]\n",
        "    for _file in onlyfiles:\n",
        "        train_files.append(_file)\n",
        "\n",
        "dataset = np.ndarray(shape=(len(train_files), image_height, image_width, channels),\n",
        "                     dtype=np.float32)\n",
        "y_dataset = []"
      ],
      "metadata": {
        "colab": {
          "base_uri": "https://localhost:8080/"
        },
        "id": "4pxmeWX-hpR_",
        "outputId": "34c26f28-f1f9-4aee-ffe1-66cccb9349a3"
      },
      "execution_count": 28,
      "outputs": [
        {
          "output_type": "stream",
          "name": "stdout",
          "text": [
            "/content/drive/MyDrive/dataset/dataset/Positive\n",
            "/content/drive/MyDrive/dataset/dataset/Negative\n"
          ]
        }
      ]
    },
    {
      "cell_type": "code",
      "source": [
        "i = 0\n",
        "for classes in ['Positive', 'Negative']:\n",
        "    onlyfiles = [f for f in os.listdir(os.path.join(folder, classes)) if os.path.isfile(os.path.join(folder, classes, f))]\n",
        "    for _file in onlyfiles:\n",
        "        img_path = os.path.join(folder, classes, _file)\n",
        "        img = load_img(img_path, target_size=(image_height, image_width))\n",
        "        x = img_to_array(img)\n",
        "        dataset[i] = x\n",
        "        mapping = {'Positivez': 0 , 'Negative' : 1}\n",
        "        y_dataset.append(mapping[classes])\n",
        "        i += 1\n",
        "        if i == 30000:\n",
        "            print(\"%d images to array\" % i)\n",
        "            break\n",
        "\n",
        "print(\"All images to array!\")"
      ],
      "metadata": {
        "colab": {
          "base_uri": "https://localhost:8080/"
        },
        "id": "XaxiXQpLh4c4",
        "outputId": "dcc9fa3c-28e4-4d7d-9c93-595340aa9b20"
      },
      "execution_count": 29,
      "outputs": [
        {
          "output_type": "stream",
          "name": "stdout",
          "text": [
            "All images to array!\n"
          ]
        }
      ]
    },
    {
      "cell_type": "markdown",
      "source": [
        "5. NORMALIZAÇÃO DOS DADOS"
      ],
      "metadata": {
        "id": "KMEVNyDWiZ2K"
      }
    },
    {
      "cell_type": "code",
      "source": [
        "#Normalização\n",
        "dataset = dataset.astype('float32')\n",
        "dataset /= 255"
      ],
      "metadata": {
        "id": "oBgQ4vYhidfJ"
      },
      "execution_count": 30,
      "outputs": []
    },
    {
      "cell_type": "code",
      "source": [
        "classes = ['Positive', 'Negative']\n",
        "\n",
        "# Dicionário para armazenar o índice da primeira imagem de cada classe\n",
        "first_image_index = {}\n",
        "\n",
        "# Encontra o índice da primeira imagem de cada classe\n",
        "for i, label in enumerate(y_dataset):\n",
        "    if label not in first_image_index:\n",
        "        first_image_index[label] = i\n",
        "\n",
        "# Configura a grade para exibir as imagens\n",
        "num_classes = len(set(y_dataset))\n",
        "num_images_per_class = 1\n",
        "num_cols = num_classes\n",
        "num_rows = num_images_per_class"
      ],
      "metadata": {
        "id": "DxufhMVCiesC"
      },
      "execution_count": 46,
      "outputs": []
    },
    {
      "cell_type": "code",
      "source": [
        "# Cria uma figura com uma grade de subplots\n",
        "fig, axes = plt.subplots(num_rows, num_cols, figsize=(5, 5))\n",
        "\n",
        "# Loop através de cada classe\n",
        "for i in range(num_classes):\n",
        "    # Obtém o índice da primeira imagem da classe\n",
        "    idx = first_image_index[i]\n",
        "\n",
        "    # Obtém a imagem e converte para RGB\n",
        "    pixels = dataset[idx]\n",
        "\n",
        "    # Exibe a imagem no subplot correspondente\n",
        "    axes[i].imshow(pixels, cmap='Spectral')\n",
        "    axes[i].axis('off')\n",
        "\n",
        "    # Adiciona um título para o subplot com o rótulo\n",
        "    axes[i].set_title(f'{classes[i]}')\n",
        "\n",
        "# Exibe a figura\n",
        "plt.tight_layout()\n",
        "plt.show()"
      ],
      "metadata": {
        "colab": {
          "base_uri": "https://localhost:8080/",
          "height": 286
        },
        "id": "k2Eixg3xiqGe",
        "outputId": "11ca930f-3a16-48d6-a29f-165872e7f318"
      },
      "execution_count": 32,
      "outputs": [
        {
          "output_type": "display_data",
          "data": {
            "text/plain": [
              "<Figure size 500x500 with 2 Axes>"
            ],
            "image/png": "[encoded data removed]"
          },
          "metadata": {}
        }
      ]
    },
    {
      "cell_type": "markdown",
      "source": [
        "5. Normalizando o dataset"
      ],
      "metadata": {
        "id": "D-SmVHrG8nro"
      }
    },
    {
      "cell_type": "code",
      "source": [
        "\n",
        "# categorical values\n",
        "n_classes = len(set(y_dataset))\n",
        "print(n_classes)\n",
        "\n",
        "y_dataset_ = to_categorical(y_dataset, n_classes)"
      ],
      "metadata": {
        "colab": {
          "base_uri": "https://localhost:8080/"
        },
        "id": "vW1nYQPW88ce",
        "outputId": "47ec0001-cf83-4b74-a966-aaab0868f0d4"
      },
      "execution_count": 47,
      "outputs": [
        {
          "output_type": "stream",
          "name": "stdout",
          "text": [
            "2\n"
          ]
        }
      ]
    },
    {
      "cell_type": "code",
      "source": [
        "# Trim dataset to match the size of y_dataset_\n",
        "dataset_trimmed = dataset[:len(y_dataset_)]\n",
        "\n",
        "# Now both dataset_trimmed and y_dataset_ have the same size\n",
        "# You can then proceed with splitting or any other operations\n",
        "\n",
        "# Splitting into training and test sets\n",
        "X_train, X_test, y_train, y_test = train_test_split(dataset_trimmed, y_dataset_, test_size=0.2)\n",
        "\n",
        "print(\"Train set size: {0}, Test set size: {1}\".format(len(X_train), len(X_test)))"
      ],
      "metadata": {
        "colab": {
          "base_uri": "https://localhost:8080/"
        },
        "id": "z1B7i_Jl9FBj",
        "outputId": "0d7e5f17-3fd8-470a-b954-444cdd4e4211"
      },
      "execution_count": 48,
      "outputs": [
        {
          "output_type": "stream",
          "name": "stdout",
          "text": [
            "Train set size: 130, Test set size: 33\n"
          ]
        }
      ]
    },
    {
      "cell_type": "code",
      "source": [
        "from sklearn.utils import resample\n",
        "\n",
        "# Criar listas vazias para armazenar as amostras balanceadas\n",
        "balanced_X_train = []\n",
        "balanced_y_train = []\n",
        "\n",
        "# Determinar o número de amostras na classe majoritária\n",
        "majority_samples = 7000\n",
        "\n",
        "# Iterar sobre cada classe\n",
        "for class_label in np.unique(y_train.argmax(axis=1)):\n",
        "    # Filtrar amostras pertencentes a essa classe\n",
        "    X_class = X_train[y_train.argmax(axis=1) == class_label]\n",
        "    y_class = y_train[y_train.argmax(axis=1) == class_label]\n",
        "\n",
        "    # Calcular o número de amostras na classe menos representada\n",
        "    minority_samples = len(X_class)\n",
        "\n",
        "    # Balancear as amostras aumentando a classe menos representada\n",
        "    balanced_X_class, balanced_y_class = resample(X_class, y_class,\n",
        "                                                  replace=True,\n",
        "                                                  n_samples=majority_samples,\n",
        "                                                  random_state=42)\n",
        "\n",
        "    # Adicionar amostras balanceadas à lista\n",
        "    balanced_X_train.extend(balanced_X_class)\n",
        "    balanced_y_train.extend(balanced_y_class)\n",
        "\n",
        "# Converter listas em arrays numpy\n",
        "balanced_X_train = np.array(balanced_X_train)\n",
        "balanced_y_train = np.array(balanced_y_train)\n",
        "\n",
        "# Embaralhar amostras\n",
        "shuffled_indices = np.arange(len(balanced_X_train))\n",
        "np.random.shuffle(shuffled_indices)\n",
        "balanced_X_train = balanced_X_train[shuffled_indices]\n",
        "balanced_y_train = balanced_y_train[shuffled_indices]\n",
        "\n",
        "# Verificar o tamanho dos conjuntos de dados balanceados\n",
        "print(\"Tamanho do conjunto de treinamento balanceado:\", len(balanced_X_train))\n",
        "print(\"Tamanho do conjunto de teste:\", len(X_test))\n",
        "\n",
        "for class_label in np.unique(balanced_y_train.argmax(axis=1)):\n",
        "    count = np.sum(balanced_y_train.argmax(axis=1) == class_label)\n",
        "    print(f\"Classe {class_label}: {count} amostras\")"
      ],
      "metadata": {
        "colab": {
          "base_uri": "https://localhost:8080/"
        },
        "id": "ngRPOxB49Lyf",
        "outputId": "fd7577a6-8995-4e6e-f68b-080ffabfd08b"
      },
      "execution_count": 50,
      "outputs": [
        {
          "output_type": "stream",
          "name": "stdout",
          "text": [
            "Tamanho do conjunto de treinamento balanceado: 4\n",
            "Tamanho do conjunto de teste: 33\n",
            "Classe 0: 4 amostras\n"
          ]
        }
      ]
    },
    {
      "cell_type": "code",
      "source": [
        "def split_data(\n",
        "        train_df,\n",
        "        test_df,\n",
        "        image_width=227,\n",
        "        image_height=227,\n",
        "        image_channels=255.0,\n",
        "        classes_names=[\"Positive\", \"Negative\"],\n",
        "        class_mode=\"binary\",\n",
        "        validation_split=0.2,\n",
        "        preprocess_input=None,\n",
        "):\n",
        "    \"\"\"\n",
        "    Divide o dataset em treino, validação e teste\n",
        "\n",
        "    Args:\n",
        "        train_df (pd.DataFrame): dataframe com os dados das imagens de treino\n",
        "        test_df (pd.DataFrame): dataframe com os dados das imagens de teste\n",
        "        image_width (int): largura da imagem\n",
        "        image_height (int): altura da imagem\n",
        "        image_channels (int): número de canais da imagem\n",
        "        classes_names (list): lista com os nomes das classes\n",
        "        class_mode (str): modo de classificação, binário ou categórico\n",
        "        validation_split (float): proporção de imagens para validação\n",
        "        preprocess_input (None | list): preprocessa um tensor ou um array Numpy que codifica um lote de imagens\n",
        "\n",
        "    Returns:\n",
        "        train_data (pd.DataFrame): dataframe com os dados das imagens de treino\n",
        "        valid_data (pd.DataFrame): dataframe com os dados das imagens de validação\n",
        "        test_data (pd.DataFrame): dataframe com os dados das imagens de teste\n",
        "    \"\"\"\n",
        "\n",
        "    image_size = (image_width, image_height)\n",
        "\n",
        "    train_gen = tf.keras.preprocessing.image.ImageDataGenerator(\n",
        "        rescale=1.0 / image_channels,\n",
        "        validation_split=validation_split,\n",
        "        preprocessing_function=preprocess_input,\n",
        "    )\n",
        "\n",
        "        #surface_crack_detection\\utils\\utils.py\n",
        "\n",
        "    test_gen = tf.keras.preprocessing.image.ImageDataGenerator(\n",
        "        rescale=1.0 / image_channels, preprocessing_function=preprocess_input\n",
        "    )\n",
        "\n",
        "    train_data = train_gen.flow_from_dataframe(\n",
        "        train_df,\n",
        "        x_col=\"Filepath\",\n",
        "        y_col=\"Label\",\n",
        "        target_size=image_size,\n",
        "        color_mode=\"rgb\",\n",
        "        class_mode=class_mode,\n",
        "        batch_size=32,\n",
        "        shuffle=False,\n",
        "        seed=42,\n",
        "        subset=\"training\",\n",
        "    )\n",
        "\n",
        "    valid_data = train_gen.flow_from_dataframe(\n",
        "        train_df,\n",
        "        x_col=\"Filepath\",\n",
        "        y_col=\"Label\",\n",
        "        target_size=image_size,\n",
        "        color_mode=\"rgb\",\n",
        "        class_mode=class_mode,\n",
        "        batch_size=32,\n",
        "        shuffle=False,\n",
        "        seed=42,\n",
        "        subset=\"validation\",\n",
        "    )\n",
        "\n",
        "    test_data = test_gen.flow_from_dataframe(\n",
        "        test_df,\n",
        "        x_col=\"Filepath\",\n",
        "        y_col=\"Label\",\n",
        "        target_size=image_size,\n",
        "        color_mode=\"rgb\",\n",
        "        class_mode=class_mode,\n",
        "        batch_size=32,\n",
        "        shuffle=False,\n",
        "        seed=42,\n",
        "    )\n",
        "\n",
        "    return train_data, valid_data, test_data\n",
        "\n",
        "\n",
        "def plot_confusion_matrix(y_true, y_pred, labels=[\"Negative\", \"Positive\"], title=\"\"):\n",
        "    \"\"\"\n",
        "    Plota a matriz de confusão\n",
        "\n",
        "    Args:\n",
        "        y_true (np.array): array com os valores reais\n",
        "        y_pred (np.array): array com os valores previstos\n",
        "        labels (list): lista com os nomes das classes\n",
        "        title (str): título do gráfico\n",
        "\n",
        "    Returns:\n",
        "        disp (ConfusionMatrixDisplay): matriz de confusão\n",
        "    \"\"\"\n",
        "\n",
        "    cm = confusion_matrix(y_true, y_pred)\n",
        "    disp = ConfusionMatrixDisplay(confusion_matrix=cm, display_labels=labels)\n",
        "    fig, ax = plt.subplots(figsize=(3, 3))\n",
        "    disp.plot(ax=ax, cmap=plt.cm.Blues, colorbar=False)\n",
        "    plt.tight_layout()\n",
        "    disp.ax_.set_title(title)\n",
        "    disp.ax_.set_xlabel(\"Prediction\")\n",
        "    disp.ax_.set_ylabel(\"Real\")\n",
        "\n",
        "    return disp"
      ],
      "metadata": {
        "id": "k6llH6Xl7FIM"
      },
      "execution_count": 10,
      "outputs": []
    },
    {
      "cell_type": "code",
      "source": [
        "import numpy as np\n",
        "import tensorflow as tf\n",
        "import keras.backend as K\n",
        "import cv2\n",
        "\n",
        "\n",
        "def compute_iou(mask1, mask2):\n",
        "    # Flatten the masks\n",
        "    mask1 = mask1.flatten()\n",
        "    mask2 = mask2.flatten()\n",
        "\n",
        "    # Compute intersection and union\n",
        "    intersection = np.sum(mask1 * mask2)\n",
        "    union = np.sum(mask1) + np.sum(mask2) - intersection\n",
        "\n",
        "    # Compute IoU\n",
        "    iou = intersection / union if union != 0 else 0\n",
        "\n",
        "    return iou\n",
        "\n",
        "\n",
        "def dilation2d(img4D):\n",
        "    # The greater the kernel size, the greater extent of the dilation applied\n",
        "    kernel_size = 5\n",
        "\n",
        "    with tf.compat.v1.variable_scope(\"dilation2d\"):\n",
        "        kernel = tf.zeros((kernel_size, kernel_size, 1))\n",
        "        output4D = tf.nn.dilation2d(\n",
        "            input=img4D,\n",
        "            filters=kernel,\n",
        "            strides=(1, 1, 1, 1),\n",
        "            data_format=\"NHWC\",\n",
        "            dilations=(1, 1, 1, 1),\n",
        "            padding=\"SAME\",\n",
        "        )\n",
        "\n",
        "        return output4D\n",
        "\n",
        "\n",
        "def Weighted_Cross_Entropy(beta):\n",
        "    def convert_to_logits(y_pred):\n",
        "        y_pred = tf.clip_by_value(\n",
        "            y_pred, tf.keras.backend.epsilon(), 1 - tf.keras.backend.epsilon()\n",
        "        )\n",
        "\n",
        "        return tf.math.log(y_pred / (1 - y_pred))\n",
        "\n",
        "    def loss(y_true, y_pred):\n",
        "        y_pred = convert_to_logits(y_pred)\n",
        "        loss = tf.nn.weighted_cross_entropy_with_logits(\n",
        "            logits=y_pred, labels=y_true, pos_weight=beta\n",
        "        )\n",
        "\n",
        "        return tf.reduce_mean(loss)\n",
        "\n",
        "    return loss\n",
        "\n",
        "\n",
        "# Focal Loss\n",
        "\n",
        "\n",
        "def Focal_Loss(gamma=2.0, alpha=0.25):\n",
        "    \"\"\"\n",
        "    Usage:\n",
        "      model.compile(loss=[binary_focal_loss(alpha=.25, gamma=2)], metrics=[\"accuracy\"], optimizer=adam)\n",
        "    \"\"\"\n",
        "\n",
        "    def binary_focal_loss_fixed(y_true, y_pred):\n",
        "        \"\"\"\n",
        "        :param y_true: A tensor of the same shape as `y_pred`\n",
        "        :param y_pred:  A tensor resulting from a sigmoid\n",
        "        :return: Output tensor.\n",
        "        \"\"\"\n",
        "        pt_1 = tf.where(tf.equal(y_true, 1), y_pred, tf.ones_like(y_pred))\n",
        "        pt_0 = tf.where(tf.equal(y_true, 0), y_pred, tf.zeros_like(y_pred))\n",
        "\n",
        "        epsilon = K.epsilon()\n",
        "\n",
        "        # Clip to prevent NaN's and Inf's\n",
        "        pt_1 = K.clip(pt_1, epsilon, 1.0 - epsilon)\n",
        "        pt_0 = K.clip(pt_0, epsilon, 1.0 - epsilon)\n",
        "\n",
        "        return -K.sum(alpha * K.pow(1.0 - pt_1, gamma) * K.log(pt_1)) - K.sum(\n",
        "            (1 - alpha) * K.pow(pt_0, gamma) * K.log(1.0 - pt_0)\n",
        "        )\n",
        "\n",
        "    return binary_focal_loss_fixed\n",
        "\n",
        "\n",
        "# F1-score Loss\n",
        "\n",
        "\n",
        "def F1_score_Loss(y_true, y_pred):\n",
        "    smooth = 1.0\n",
        "    y_true_f = K.flatten(y_true)\n",
        "    y_pred_f = K.flatten(y_pred)\n",
        "    intersection = y_true_f * y_pred_f\n",
        "    score = (2.0 * K.sum(intersection) + smooth) / (\n",
        "        K.sum(y_true_f) + K.sum(y_pred_f) + smooth\n",
        "    )\n",
        "\n",
        "    return 1.0 - score\n",
        "\n",
        "\n",
        "# F1-score Loss with dilated y_true mask\n",
        "\n",
        "\n",
        "def F1_score_Loss_dil(y_true, y_pred):\n",
        "    smooth = 1.0\n",
        "    # Dilate y_true\n",
        "    y_true_dil = dilation2d(y_true)\n",
        "    y_true_dil = K.flatten(y_true_dil)\n",
        "\n",
        "    y_true_f = K.flatten(y_true)\n",
        "    y_pred_f = K.flatten(y_pred)\n",
        "    intersection = y_true_dil * y_pred_f\n",
        "    score = (2.0 * K.sum(intersection) + smooth) / (\n",
        "        K.sum(y_true_f) + K.sum(y_pred_f) + smooth\n",
        "    )\n",
        "\n",
        "    return 1.0 - score\n",
        "\n",
        "\n",
        "# Recall Metric\n",
        "\n",
        "\n",
        "def Recall(y_true, y_pred):\n",
        "    true_positives = K.sum(K.round(K.clip(y_true * y_pred, 0, 1)))\n",
        "    possible_positives = K.sum(K.round(K.clip(y_true, 0, 1)))\n",
        "    recall = true_positives / (possible_positives + K.epsilon())\n",
        "\n",
        "    return recall\n",
        "\n",
        "\n",
        "# Precision Metric\n",
        "\n",
        "\n",
        "def Precision(y_true, y_pred):\n",
        "    true_positives = K.sum(K.round(K.clip(y_true * y_pred, 0, 1)))\n",
        "    predicted_positives = K.sum(K.round(K.clip(y_pred, 0, 1)))\n",
        "    precision = true_positives / (predicted_positives + K.epsilon())\n",
        "\n",
        "    return precision\n",
        "\n",
        "\n",
        "# Precision Metric with dilated y_true mask\n",
        "\n",
        "\n",
        "def Precision_dil(y_true, y_pred):\n",
        "    # Dilate y_true\n",
        "    y_true = dilation2d(y_true)\n",
        "\n",
        "    true_positives = K.sum(K.round(K.clip(y_true * y_pred, 0, 1)))\n",
        "    predicted_positives = K.sum(K.round(K.clip(y_pred, 0, 1)))\n",
        "    precision = true_positives / (predicted_positives + K.epsilon())\n",
        "    return precision\n",
        "\n",
        "\n",
        "# F1-score Metric\n",
        "\n",
        "\n",
        "def F1_score(y_true, y_pred):\n",
        "    precision = Precision(y_true, y_pred)\n",
        "    recall = Recall(y_true, y_pred)\n",
        "\n",
        "    return 2 * ((precision * recall) / (precision + recall + K.epsilon()))\n",
        "\n",
        "\n",
        "# F1-score Metric with dilated y_true mask\n",
        "\n",
        "\n",
        "def F1_score_dil(y_true, y_pred):\n",
        "    precision = Precision_dil(y_true, y_pred)\n",
        "    recall = Recall(y_true, y_pred)\n",
        "    return 2 * ((precision * recall) / (precision + recall + K.epsilon()))\n",
        "\n",
        "\n",
        "# Define metrics to be used for evaluation of the trained model using NumPy instead of tensorflow tensors\n",
        "\n",
        "\n",
        "def DilateMask(mask, threshold=0.5, iterations=1):\n",
        "    \"\"\"\n",
        "    receives mask and returns dilated mask\n",
        "    \"\"\"\n",
        "    kernel = np.ones((5, 5), np.uint8)\n",
        "    mask_dilated = mask.copy()\n",
        "    mask_dilated = cv2.dilate(mask_dilated, kernel, iterations=iterations)\n",
        "\n",
        "    # Binarize mask after dilation\n",
        "    mask_dilated = np.where(mask_dilated > threshold, 1.0, 0.0)\n",
        "\n",
        "    return mask_dilated\n",
        "\n",
        "\n",
        "def Recall_np(y_true, y_pred, threshold=0.5):\n",
        "    eps = 1e-07\n",
        "    y_true_f = y_true.flatten().astype(\"float32\")\n",
        "    half = (np.ones(y_true_f.shape) * threshold).astype(\"float32\")\n",
        "    y_pred_f = np.greater(y_pred.flatten(), half).astype(\"float32\")\n",
        "    true_positives = (y_true_f * y_pred_f).sum()\n",
        "    possible_positives = y_true_f.sum()\n",
        "    recall = (true_positives + eps) / (possible_positives + eps)\n",
        "\n",
        "    return recall\n",
        "\n",
        "\n",
        "def Precision_np(y_true, y_pred, threshold=0.5):\n",
        "    eps = 1e-07\n",
        "    y_true_f = y_true.flatten().astype(\"float32\")\n",
        "    half = (np.ones(y_true_f.shape) * threshold).astype(\"float32\")\n",
        "    y_pred_f = np.greater(y_pred.flatten(), half).astype(\"float32\")\n",
        "    true_positives = (y_true_f * y_pred_f).sum()\n",
        "    predicted_positives = y_pred_f.sum()\n",
        "    precision = (true_positives + eps) / (predicted_positives + eps)\n",
        "\n",
        "    return precision\n",
        "\n",
        "\n",
        "def F1_score_np(recall, precision):\n",
        "    eps = 1e-07\n",
        "\n",
        "    return 2 * ((precision * recall) / (precision + recall + eps))\n"
      ],
      "metadata": {
        "id": "EpJrthOH7bfC"
      },
      "execution_count": 11,
      "outputs": []
    },
    {
      "cell_type": "code",
      "source": [
        "from sklearn.utils import resample\n",
        "\n",
        "# Criar listas vazias para armazenar as amostras balanceadas\n",
        "balanced_X_train = []\n",
        "balanced_y_train = []\n",
        "\n",
        "# Determinar o número de amostras na classe majoritária\n",
        "majority_samples = 7000\n",
        "\n",
        "# Iterar sobre cada classe\n",
        "for class_label in np.unique(y_train.argmax(axis=1)):\n",
        "    # Filtrar amostras pertencentes a essa classe\n",
        "    X_class = X_train[y_train.argmax(axis=1) == class_label]\n",
        "    y_class = y_train[y_train.argmax(axis=1) == class_label]\n",
        "\n",
        "    # Calcular o número de amostras na classe menos representada\n",
        "    minority_samples = len(X_class)\n",
        "\n",
        "    # Balancear as amostras aumentando a classe menos representada\n",
        "    balanced_X_class, balanced_y_class = resample(X_class, y_class,\n",
        "                                                  replace=True,\n",
        "                                                  n_samples=majority_samples,\n",
        "                                                  random_state=42)\n",
        "\n",
        "    # Adicionar amostras balanceadas à lista\n",
        "    balanced_X_train.extend(balanced_X_class)\n",
        "    balanced_y_train.extend(balanced_y_class)\n",
        "\n",
        "# Converter listas em arrays numpy\n",
        "balanced_X_train = np.array(balanced_X_train)\n",
        "balanced_y_train = np.array(balanced_y_train)\n",
        "\n",
        "# Embaralhar amostras\n",
        "shuffled_indices = np.arange(len(balanced_X_train))\n",
        "np.random.shuffle(shuffled_indices)\n",
        "balanced_X_train = balanced_X_train[shuffled_indices]\n",
        "balanced_y_train = balanced_y_train[shuffled_indices]\n",
        "\n",
        "# Verificar o tamanho dos conjuntos de dados balanceados\n",
        "print(\"Tamanho do conjunto de treinamento balanceado:\", len(balanced_X_train))\n",
        "print(\"Tamanho do conjunto de teste:\", len(X_test))\n",
        "\n",
        "for class_label in np.unique(balanced_y_train.argmax(axis=1)):\n",
        "    count = np.sum(balanced_y_train.argmax(axis=1) == class_label)\n",
        "    print(f\"Classe {class_label}: {count} amostras\")"
      ],
      "metadata": {
        "colab": {
          "base_uri": "https://localhost:8080/"
        },
        "id": "7FcFotV968fQ",
        "outputId": "4561a706-f862-46ce-bdce-6ab6e933aad0"
      },
      "execution_count": 45,
      "outputs": [
        {
          "output_type": "stream",
          "name": "stdout",
          "text": [
            "Tamanho do conjunto de treinamento balanceado: 4\n",
            "Tamanho do conjunto de teste: 33\n",
            "Classe 0: 4 amostras\n"
          ]
        }
      ]
    },
    {
      "cell_type": "code",
      "source": [
        "# Criar o modelo\n",
        "model = Sequential()\n",
        "\n",
        "model.add(BatchNormalization(input_shape=(image_height, image_width, 3)))\n",
        "model.add(Conv2D(512, (3,3), padding='same', activation='relu'))\n",
        "model.add(MaxPooling2D(pool_size=(2, 2), strides=(2, 2)))\n",
        "model.add(Dropout(0.2))  # Adiciona a camada de dropout\n",
        "\n",
        "model.add(Conv2D(256, (3,3), padding='same', activation='relu'))\n",
        "model.add(MaxPooling2D(pool_size=(2, 2), strides=(2, 2)))\n",
        "model.add(Dropout(0.2))  # Adiciona a camada de dropout\n",
        "\n",
        "model.add(Flatten())\n",
        "model.add(Dense(32, activation='relu'))\n",
        "model.add(Dropout(0.2))  # Adiciona a camada de dropout\n",
        "model.add(Dense(2, activation='softmax'))  # Especifica 'softmax' como a função de ativação\n",
        "\n",
        "model.summary()"
      ],
      "metadata": {
        "colab": {
          "base_uri": "https://localhost:8080/",
          "height": 553
        },
        "id": "fQFsuNx_zNHs",
        "outputId": "eff0ce7f-bb7d-4bb1-baad-7fbff2f2d208"
      },
      "execution_count": 51,
      "outputs": [
        {
          "output_type": "stream",
          "name": "stderr",
          "text": [
            "/usr/local/lib/python3.10/dist-packages/keras/src/layers/normalization/batch_normalization.py:143: UserWarning: Do not pass an `input_shape`/`input_dim` argument to a layer. When using Sequential models, prefer using an `Input(shape)` object as the first layer in the model instead.\n",
            "  super().__init__(**kwargs)\n"
          ]
        },
        {
          "output_type": "display_data",
          "data": {
            "text/plain": [
              "\u001b[1mModel: \"sequential_1\"\u001b[0m\n"
            ],
            "text/html": [
              "<pre style=\"white-space:pre;overflow-x:auto;line-height:normal;font-family:Menlo,'DejaVu Sans Mono',consolas,'Courier New',monospace\"><span style=\"font-weight: bold\">Model: \"sequential_1\"</span>\n",
              "</pre>\n"
            ]
          },
          "metadata": {}
        },
        {
          "output_type": "display_data",
          "data": {
            "text/plain": [
              "┏━━━━━━━━━━━━━━━━━━━━━━━━━━━━━━━━━━━━━━┳━━━━━━━━━━━━━━━━━━━━━━━━━━━━━┳━━━━━━━━━━━━━━━━━┓\n",
              "┃\u001b[1m \u001b[0m\u001b[1mLayer (type)                        \u001b[0m\u001b[1m \u001b[0m┃\u001b[1m \u001b[0m\u001b[1mOutput Shape               \u001b[0m\u001b[1m \u001b[0m┃\u001b[1m \u001b[0m\u001b[1m        Param #\u001b[0m\u001b[1m \u001b[0m┃\n",
              "┡━━━━━━━━━━━━━━━━━━━━━━━━━━━━━━━━━━━━━━╇━━━━━━━━━━━━━━━━━━━━━━━━━━━━━╇━━━━━━━━━━━━━━━━━┩\n",
              "│ batch_normalization_1                │ (\u001b[38;5;45mNone\u001b[0m, \u001b[38;5;34m48\u001b[0m, \u001b[38;5;34m48\u001b[0m, \u001b[38;5;34m3\u001b[0m)           │              \u001b[38;5;34m12\u001b[0m │\n",
              "│ (\u001b[38;5;33mBatchNormalization\u001b[0m)                 │                             │                 │\n",
              "├──────────────────────────────────────┼─────────────────────────────┼─────────────────┤\n",
              "│ conv2d_2 (\u001b[38;5;33mConv2D\u001b[0m)                    │ (\u001b[38;5;45mNone\u001b[0m, \u001b[38;5;34m48\u001b[0m, \u001b[38;5;34m48\u001b[0m, \u001b[38;5;34m512\u001b[0m)         │          \u001b[38;5;34m14,336\u001b[0m │\n",
              "├──────────────────────────────────────┼─────────────────────────────┼─────────────────┤\n",
              "│ max_pooling2d_2 (\u001b[38;5;33mMaxPooling2D\u001b[0m)       │ (\u001b[38;5;45mNone\u001b[0m, \u001b[38;5;34m24\u001b[0m, \u001b[38;5;34m24\u001b[0m, \u001b[38;5;34m512\u001b[0m)         │               \u001b[38;5;34m0\u001b[0m │\n",
              "├──────────────────────────────────────┼─────────────────────────────┼─────────────────┤\n",
              "│ dropout_3 (\u001b[38;5;33mDropout\u001b[0m)                  │ (\u001b[38;5;45mNone\u001b[0m, \u001b[38;5;34m24\u001b[0m, \u001b[38;5;34m24\u001b[0m, \u001b[38;5;34m512\u001b[0m)         │               \u001b[38;5;34m0\u001b[0m │\n",
              "├──────────────────────────────────────┼─────────────────────────────┼─────────────────┤\n",
              "│ conv2d_3 (\u001b[38;5;33mConv2D\u001b[0m)                    │ (\u001b[38;5;45mNone\u001b[0m, \u001b[38;5;34m24\u001b[0m, \u001b[38;5;34m24\u001b[0m, \u001b[38;5;34m256\u001b[0m)         │       \u001b[38;5;34m1,179,904\u001b[0m │\n",
              "├──────────────────────────────────────┼─────────────────────────────┼─────────────────┤\n",
              "│ max_pooling2d_3 (\u001b[38;5;33mMaxPooling2D\u001b[0m)       │ (\u001b[38;5;45mNone\u001b[0m, \u001b[38;5;34m12\u001b[0m, \u001b[38;5;34m12\u001b[0m, \u001b[38;5;34m256\u001b[0m)         │               \u001b[38;5;34m0\u001b[0m │\n",
              "├──────────────────────────────────────┼─────────────────────────────┼─────────────────┤\n",
              "│ dropout_4 (\u001b[38;5;33mDropout\u001b[0m)                  │ (\u001b[38;5;45mNone\u001b[0m, \u001b[38;5;34m12\u001b[0m, \u001b[38;5;34m12\u001b[0m, \u001b[38;5;34m256\u001b[0m)         │               \u001b[38;5;34m0\u001b[0m │\n",
              "├──────────────────────────────────────┼─────────────────────────────┼─────────────────┤\n",
              "│ flatten_1 (\u001b[38;5;33mFlatten\u001b[0m)                  │ (\u001b[38;5;45mNone\u001b[0m, \u001b[38;5;34m36864\u001b[0m)               │               \u001b[38;5;34m0\u001b[0m │\n",
              "├──────────────────────────────────────┼─────────────────────────────┼─────────────────┤\n",
              "│ dense_2 (\u001b[38;5;33mDense\u001b[0m)                      │ (\u001b[38;5;45mNone\u001b[0m, \u001b[38;5;34m32\u001b[0m)                  │       \u001b[38;5;34m1,179,680\u001b[0m │\n",
              "├──────────────────────────────────────┼─────────────────────────────┼─────────────────┤\n",
              "│ dropout_5 (\u001b[38;5;33mDropout\u001b[0m)                  │ (\u001b[38;5;45mNone\u001b[0m, \u001b[38;5;34m32\u001b[0m)                  │               \u001b[38;5;34m0\u001b[0m │\n",
              "├──────────────────────────────────────┼─────────────────────────────┼─────────────────┤\n",
              "│ dense_3 (\u001b[38;5;33mDense\u001b[0m)                      │ (\u001b[38;5;45mNone\u001b[0m, \u001b[38;5;34m2\u001b[0m)                   │              \u001b[38;5;34m66\u001b[0m │\n",
              "└──────────────────────────────────────┴─────────────────────────────┴─────────────────┘\n"
            ],
            "text/html": [
              "<pre style=\"white-space:pre;overflow-x:auto;line-height:normal;font-family:Menlo,'DejaVu Sans Mono',consolas,'Courier New',monospace\">┏━━━━━━━━━━━━━━━━━━━━━━━━━━━━━━━━━━━━━━┳━━━━━━━━━━━━━━━━━━━━━━━━━━━━━┳━━━━━━━━━━━━━━━━━┓\n",
              "┃<span style=\"font-weight: bold\"> Layer (type)                         </span>┃<span style=\"font-weight: bold\"> Output Shape                </span>┃<span style=\"font-weight: bold\">         Param # </span>┃\n",
              "┡━━━━━━━━━━━━━━━━━━━━━━━━━━━━━━━━━━━━━━╇━━━━━━━━━━━━━━━━━━━━━━━━━━━━━╇━━━━━━━━━━━━━━━━━┩\n",
              "│ batch_normalization_1                │ (<span style=\"color: #00d7ff; text-decoration-color: #00d7ff\">None</span>, <span style=\"color: #00af00; text-decoration-color: #00af00\">48</span>, <span style=\"color: #00af00; text-decoration-color: #00af00\">48</span>, <span style=\"color: #00af00; text-decoration-color: #00af00\">3</span>)           │              <span style=\"color: #00af00; text-decoration-color: #00af00\">12</span> │\n",
              "│ (<span style=\"color: #0087ff; text-decoration-color: #0087ff\">BatchNormalization</span>)                 │                             │                 │\n",
              "├──────────────────────────────────────┼─────────────────────────────┼─────────────────┤\n",
              "│ conv2d_2 (<span style=\"color: #0087ff; text-decoration-color: #0087ff\">Conv2D</span>)                    │ (<span style=\"color: #00d7ff; text-decoration-color: #00d7ff\">None</span>, <span style=\"color: #00af00; text-decoration-color: #00af00\">48</span>, <span style=\"color: #00af00; text-decoration-color: #00af00\">48</span>, <span style=\"color: #00af00; text-decoration-color: #00af00\">512</span>)         │          <span style=\"color: #00af00; text-decoration-color: #00af00\">14,336</span> │\n",
              "├──────────────────────────────────────┼─────────────────────────────┼─────────────────┤\n",
              "│ max_pooling2d_2 (<span style=\"color: #0087ff; text-decoration-color: #0087ff\">MaxPooling2D</span>)       │ (<span style=\"color: #00d7ff; text-decoration-color: #00d7ff\">None</span>, <span style=\"color: #00af00; text-decoration-color: #00af00\">24</span>, <span style=\"color: #00af00; text-decoration-color: #00af00\">24</span>, <span style=\"color: #00af00; text-decoration-color: #00af00\">512</span>)         │               <span style=\"color: #00af00; text-decoration-color: #00af00\">0</span> │\n",
              "├──────────────────────────────────────┼─────────────────────────────┼─────────────────┤\n",
              "│ dropout_3 (<span style=\"color: #0087ff; text-decoration-color: #0087ff\">Dropout</span>)                  │ (<span style=\"color: #00d7ff; text-decoration-color: #00d7ff\">None</span>, <span style=\"color: #00af00; text-decoration-color: #00af00\">24</span>, <span style=\"color: #00af00; text-decoration-color: #00af00\">24</span>, <span style=\"color: #00af00; text-decoration-color: #00af00\">512</span>)         │               <span style=\"color: #00af00; text-decoration-color: #00af00\">0</span> │\n",
              "├──────────────────────────────────────┼─────────────────────────────┼─────────────────┤\n",
              "│ conv2d_3 (<span style=\"color: #0087ff; text-decoration-color: #0087ff\">Conv2D</span>)                    │ (<span style=\"color: #00d7ff; text-decoration-color: #00d7ff\">None</span>, <span style=\"color: #00af00; text-decoration-color: #00af00\">24</span>, <span style=\"color: #00af00; text-decoration-color: #00af00\">24</span>, <span style=\"color: #00af00; text-decoration-color: #00af00\">256</span>)         │       <span style=\"color: #00af00; text-decoration-color: #00af00\">1,179,904</span> │\n",
              "├──────────────────────────────────────┼─────────────────────────────┼─────────────────┤\n",
              "│ max_pooling2d_3 (<span style=\"color: #0087ff; text-decoration-color: #0087ff\">MaxPooling2D</span>)       │ (<span style=\"color: #00d7ff; text-decoration-color: #00d7ff\">None</span>, <span style=\"color: #00af00; text-decoration-color: #00af00\">12</span>, <span style=\"color: #00af00; text-decoration-color: #00af00\">12</span>, <span style=\"color: #00af00; text-decoration-color: #00af00\">256</span>)         │               <span style=\"color: #00af00; text-decoration-color: #00af00\">0</span> │\n",
              "├──────────────────────────────────────┼─────────────────────────────┼─────────────────┤\n",
              "│ dropout_4 (<span style=\"color: #0087ff; text-decoration-color: #0087ff\">Dropout</span>)                  │ (<span style=\"color: #00d7ff; text-decoration-color: #00d7ff\">None</span>, <span style=\"color: #00af00; text-decoration-color: #00af00\">12</span>, <span style=\"color: #00af00; text-decoration-color: #00af00\">12</span>, <span style=\"color: #00af00; text-decoration-color: #00af00\">256</span>)         │               <span style=\"color: #00af00; text-decoration-color: #00af00\">0</span> │\n",
              "├──────────────────────────────────────┼─────────────────────────────┼─────────────────┤\n",
              "│ flatten_1 (<span style=\"color: #0087ff; text-decoration-color: #0087ff\">Flatten</span>)                  │ (<span style=\"color: #00d7ff; text-decoration-color: #00d7ff\">None</span>, <span style=\"color: #00af00; text-decoration-color: #00af00\">36864</span>)               │               <span style=\"color: #00af00; text-decoration-color: #00af00\">0</span> │\n",
              "├──────────────────────────────────────┼─────────────────────────────┼─────────────────┤\n",
              "│ dense_2 (<span style=\"color: #0087ff; text-decoration-color: #0087ff\">Dense</span>)                      │ (<span style=\"color: #00d7ff; text-decoration-color: #00d7ff\">None</span>, <span style=\"color: #00af00; text-decoration-color: #00af00\">32</span>)                  │       <span style=\"color: #00af00; text-decoration-color: #00af00\">1,179,680</span> │\n",
              "├──────────────────────────────────────┼─────────────────────────────┼─────────────────┤\n",
              "│ dropout_5 (<span style=\"color: #0087ff; text-decoration-color: #0087ff\">Dropout</span>)                  │ (<span style=\"color: #00d7ff; text-decoration-color: #00d7ff\">None</span>, <span style=\"color: #00af00; text-decoration-color: #00af00\">32</span>)                  │               <span style=\"color: #00af00; text-decoration-color: #00af00\">0</span> │\n",
              "├──────────────────────────────────────┼─────────────────────────────┼─────────────────┤\n",
              "│ dense_3 (<span style=\"color: #0087ff; text-decoration-color: #0087ff\">Dense</span>)                      │ (<span style=\"color: #00d7ff; text-decoration-color: #00d7ff\">None</span>, <span style=\"color: #00af00; text-decoration-color: #00af00\">2</span>)                   │              <span style=\"color: #00af00; text-decoration-color: #00af00\">66</span> │\n",
              "└──────────────────────────────────────┴─────────────────────────────┴─────────────────┘\n",
              "</pre>\n"
            ]
          },
          "metadata": {}
        },
        {
          "output_type": "display_data",
          "data": {
            "text/plain": [
              "\u001b[1m Total params: \u001b[0m\u001b[38;5;34m2,373,998\u001b[0m (9.06 MB)\n"
            ],
            "text/html": [
              "<pre style=\"white-space:pre;overflow-x:auto;line-height:normal;font-family:Menlo,'DejaVu Sans Mono',consolas,'Courier New',monospace\"><span style=\"font-weight: bold\"> Total params: </span><span style=\"color: #00af00; text-decoration-color: #00af00\">2,373,998</span> (9.06 MB)\n",
              "</pre>\n"
            ]
          },
          "metadata": {}
        },
        {
          "output_type": "display_data",
          "data": {
            "text/plain": [
              "\u001b[1m Trainable params: \u001b[0m\u001b[38;5;34m2,373,992\u001b[0m (9.06 MB)\n"
            ],
            "text/html": [
              "<pre style=\"white-space:pre;overflow-x:auto;line-height:normal;font-family:Menlo,'DejaVu Sans Mono',consolas,'Courier New',monospace\"><span style=\"font-weight: bold\"> Trainable params: </span><span style=\"color: #00af00; text-decoration-color: #00af00\">2,373,992</span> (9.06 MB)\n",
              "</pre>\n"
            ]
          },
          "metadata": {}
        },
        {
          "output_type": "display_data",
          "data": {
            "text/plain": [
              "\u001b[1m Non-trainable params: \u001b[0m\u001b[38;5;34m6\u001b[0m (24.00 B)\n"
            ],
            "text/html": [
              "<pre style=\"white-space:pre;overflow-x:auto;line-height:normal;font-family:Menlo,'DejaVu Sans Mono',consolas,'Courier New',monospace\"><span style=\"font-weight: bold\"> Non-trainable params: </span><span style=\"color: #00af00; text-decoration-color: #00af00\">6</span> (24.00 B)\n",
              "</pre>\n"
            ]
          },
          "metadata": {}
        }
      ]
    },
    {
      "cell_type": "code",
      "source": [
        "optimizer = Adam(learning_rate=0.001)\n",
        "model.compile(optimizer=optimizer, loss='categorical_crossentropy', metrics=['accuracy'])"
      ],
      "metadata": {
        "id": "Z8fDF0jl629z"
      },
      "execution_count": 52,
      "outputs": []
    },
    {
      "cell_type": "code",
      "source": [
        "# Treinando o modelo\n",
        "from tensorflow.keras.callbacks import EarlyStopping\n",
        "\n",
        "# Configurar EarlyStopping\n",
        "early_stopping = EarlyStopping(monitor='val_loss', patience=20)\n",
        "\n",
        "# Treinar o modelo\n",
        "history = model.fit(balanced_X_train, balanced_y_train,validation_split= 0.2, epochs=1, callbacks=[early_stopping], batch_size=64)"
      ],
      "metadata": {
        "colab": {
          "base_uri": "https://localhost:8080/",
          "height": 371
        },
        "id": "4uBufzgH61H2",
        "outputId": "53adae91-b7b3-4e09-90db-3fcd0c3fe951"
      },
      "execution_count": 54,
      "outputs": [
        {
          "output_type": "error",
          "ename": "ValueError",
          "evalue": "Invalid dtype: str256",
          "traceback": [
            "\u001b[0;31m---------------------------------------------------------------------------\u001b[0m",
            "\u001b[0;31mValueError\u001b[0m                                Traceback (most recent call last)",
            "\u001b[0;32m<ipython-input-54-70f2af3d8737>\u001b[0m in \u001b[0;36m<cell line: 8>\u001b[0;34m()\u001b[0m\n\u001b[1;32m      6\u001b[0m \u001b[0;34m\u001b[0m\u001b[0m\n\u001b[1;32m      7\u001b[0m \u001b[0;31m# Treinar o modelo\u001b[0m\u001b[0;34m\u001b[0m\u001b[0;34m\u001b[0m\u001b[0m\n\u001b[0;32m----> 8\u001b[0;31m \u001b[0mhistory\u001b[0m \u001b[0;34m=\u001b[0m \u001b[0mmodel\u001b[0m\u001b[0;34m.\u001b[0m\u001b[0mfit\u001b[0m\u001b[0;34m(\u001b[0m\u001b[0mbalanced_X_train\u001b[0m\u001b[0;34m,\u001b[0m \u001b[0mbalanced_y_train\u001b[0m\u001b[0;34m,\u001b[0m\u001b[0mvalidation_split\u001b[0m\u001b[0;34m=\u001b[0m \u001b[0;36m0.2\u001b[0m\u001b[0;34m,\u001b[0m \u001b[0mepochs\u001b[0m\u001b[0;34m=\u001b[0m\u001b[0;36m1\u001b[0m\u001b[0;34m,\u001b[0m \u001b[0mcallbacks\u001b[0m\u001b[0;34m=\u001b[0m\u001b[0;34m[\u001b[0m\u001b[0mearly_stopping\u001b[0m\u001b[0;34m]\u001b[0m\u001b[0;34m,\u001b[0m \u001b[0mbatch_size\u001b[0m\u001b[0;34m=\u001b[0m\u001b[0;36m64\u001b[0m\u001b[0;34m)\u001b[0m\u001b[0;34m\u001b[0m\u001b[0;34m\u001b[0m\u001b[0m\n\u001b[0m",
            "\u001b[0;32m/usr/local/lib/python3.10/dist-packages/keras/src/utils/traceback_utils.py\u001b[0m in \u001b[0;36merror_handler\u001b[0;34m(*args, **kwargs)\u001b[0m\n\u001b[1;32m    120\u001b[0m             \u001b[0;31m# To get the full stack trace, call:\u001b[0m\u001b[0;34m\u001b[0m\u001b[0;34m\u001b[0m\u001b[0m\n\u001b[1;32m    121\u001b[0m             \u001b[0;31m# `keras.config.disable_traceback_filtering()`\u001b[0m\u001b[0;34m\u001b[0m\u001b[0;34m\u001b[0m\u001b[0m\n\u001b[0;32m--> 122\u001b[0;31m             \u001b[0;32mraise\u001b[0m \u001b[0me\u001b[0m\u001b[0;34m.\u001b[0m\u001b[0mwith_traceback\u001b[0m\u001b[0;34m(\u001b[0m\u001b[0mfiltered_tb\u001b[0m\u001b[0;34m)\u001b[0m \u001b[0;32mfrom\u001b[0m \u001b[0;32mNone\u001b[0m\u001b[0;34m\u001b[0m\u001b[0;34m\u001b[0m\u001b[0m\n\u001b[0m\u001b[1;32m    123\u001b[0m         \u001b[0;32mfinally\u001b[0m\u001b[0;34m:\u001b[0m\u001b[0;34m\u001b[0m\u001b[0;34m\u001b[0m\u001b[0m\n\u001b[1;32m    124\u001b[0m             \u001b[0;32mdel\u001b[0m \u001b[0mfiltered_tb\u001b[0m\u001b[0;34m\u001b[0m\u001b[0;34m\u001b[0m\u001b[0m\n",
            "\u001b[0;32m/usr/local/lib/python3.10/dist-packages/optree/ops.py\u001b[0m in \u001b[0;36mtree_map\u001b[0;34m(func, tree, is_leaf, none_is_leaf, namespace, *rests)\u001b[0m\n\u001b[1;32m    750\u001b[0m     \u001b[0mleaves\u001b[0m\u001b[0;34m,\u001b[0m \u001b[0mtreespec\u001b[0m \u001b[0;34m=\u001b[0m \u001b[0m_C\u001b[0m\u001b[0;34m.\u001b[0m\u001b[0mflatten\u001b[0m\u001b[0;34m(\u001b[0m\u001b[0mtree\u001b[0m\u001b[0;34m,\u001b[0m \u001b[0mis_leaf\u001b[0m\u001b[0;34m,\u001b[0m \u001b[0mnone_is_leaf\u001b[0m\u001b[0;34m,\u001b[0m \u001b[0mnamespace\u001b[0m\u001b[0;34m)\u001b[0m\u001b[0;34m\u001b[0m\u001b[0;34m\u001b[0m\u001b[0m\n\u001b[1;32m    751\u001b[0m     \u001b[0mflat_args\u001b[0m \u001b[0;34m=\u001b[0m \u001b[0;34m[\u001b[0m\u001b[0mleaves\u001b[0m\u001b[0;34m]\u001b[0m \u001b[0;34m+\u001b[0m \u001b[0;34m[\u001b[0m\u001b[0mtreespec\u001b[0m\u001b[0;34m.\u001b[0m\u001b[0mflatten_up_to\u001b[0m\u001b[0;34m(\u001b[0m\u001b[0mr\u001b[0m\u001b[0;34m)\u001b[0m \u001b[0;32mfor\u001b[0m \u001b[0mr\u001b[0m \u001b[0;32min\u001b[0m \u001b[0mrests\u001b[0m\u001b[0;34m]\u001b[0m\u001b[0;34m\u001b[0m\u001b[0;34m\u001b[0m\u001b[0m\n\u001b[0;32m--> 752\u001b[0;31m     \u001b[0;32mreturn\u001b[0m \u001b[0mtreespec\u001b[0m\u001b[0;34m.\u001b[0m\u001b[0munflatten\u001b[0m\u001b[0;34m(\u001b[0m\u001b[0mmap\u001b[0m\u001b[0;34m(\u001b[0m\u001b[0mfunc\u001b[0m\u001b[0;34m,\u001b[0m \u001b[0;34m*\u001b[0m\u001b[0mflat_args\u001b[0m\u001b[0;34m)\u001b[0m\u001b[0;34m)\u001b[0m\u001b[0;34m\u001b[0m\u001b[0;34m\u001b[0m\u001b[0m\n\u001b[0m\u001b[1;32m    753\u001b[0m \u001b[0;34m\u001b[0m\u001b[0m\n\u001b[1;32m    754\u001b[0m \u001b[0;34m\u001b[0m\u001b[0m\n",
            "\u001b[0;31mValueError\u001b[0m: Invalid dtype: str256"
          ]
        }
      ]
    },
    {
      "cell_type": "code",
      "source": [
        "val_accuracy = history.history['val_accuracy']\n",
        "\n",
        "mean_val_accuracy = np.mean(val_accuracy)\n",
        "\n",
        "print(\"Valor médio de acurácia:\", mean_val_accuracy)"
      ],
      "metadata": {
        "colab": {
          "base_uri": "https://localhost:8080/",
          "height": 219
        },
        "id": "tprdj27v6znm",
        "outputId": "2bc5a39e-d2c8-4bed-b19c-d9b68d034720"
      },
      "execution_count": 55,
      "outputs": [
        {
          "output_type": "error",
          "ename": "NameError",
          "evalue": "name 'history' is not defined",
          "traceback": [
            "\u001b[0;31m---------------------------------------------------------------------------\u001b[0m",
            "\u001b[0;31mNameError\u001b[0m                                 Traceback (most recent call last)",
            "\u001b[0;32m<ipython-input-55-8c13cc1b5889>\u001b[0m in \u001b[0;36m<cell line: 1>\u001b[0;34m()\u001b[0m\n\u001b[0;32m----> 1\u001b[0;31m \u001b[0mval_accuracy\u001b[0m \u001b[0;34m=\u001b[0m \u001b[0mhistory\u001b[0m\u001b[0;34m.\u001b[0m\u001b[0mhistory\u001b[0m\u001b[0;34m[\u001b[0m\u001b[0;34m'val_accuracy'\u001b[0m\u001b[0;34m]\u001b[0m\u001b[0;34m\u001b[0m\u001b[0;34m\u001b[0m\u001b[0m\n\u001b[0m\u001b[1;32m      2\u001b[0m \u001b[0;34m\u001b[0m\u001b[0m\n\u001b[1;32m      3\u001b[0m \u001b[0mmean_val_accuracy\u001b[0m \u001b[0;34m=\u001b[0m \u001b[0mnp\u001b[0m\u001b[0;34m.\u001b[0m\u001b[0mmean\u001b[0m\u001b[0;34m(\u001b[0m\u001b[0mval_accuracy\u001b[0m\u001b[0;34m)\u001b[0m\u001b[0;34m\u001b[0m\u001b[0;34m\u001b[0m\u001b[0m\n\u001b[1;32m      4\u001b[0m \u001b[0;34m\u001b[0m\u001b[0m\n\u001b[1;32m      5\u001b[0m \u001b[0mprint\u001b[0m\u001b[0;34m(\u001b[0m\u001b[0;34m\"Valor médio de acurácia:\"\u001b[0m\u001b[0;34m,\u001b[0m \u001b[0mmean_val_accuracy\u001b[0m\u001b[0;34m)\u001b[0m\u001b[0;34m\u001b[0m\u001b[0;34m\u001b[0m\u001b[0m\n",
            "\u001b[0;31mNameError\u001b[0m: name 'history' is not defined"
          ]
        }
      ]
    },
    {
      "cell_type": "code",
      "source": [
        "import pandas as pd\n",
        "history_save = pd.DataFrame(history.history)\n",
        "history_save.to_csv('datasetNormal.csv')"
      ],
      "metadata": {
        "id": "mEeKHzjo6yKg"
      },
      "execution_count": null,
      "outputs": []
    },
    {
      "cell_type": "code",
      "source": [
        "# save model structure in jason file\n",
        "model_json = model.to_json()\n",
        "with open(\"emotion_model.json\", \"w\") as json_file:\n",
        "    json_file.write(model_json)"
      ],
      "metadata": {
        "id": "c-p3f19-6wvY"
      },
      "execution_count": null,
      "outputs": []
    },
    {
      "cell_type": "code",
      "source": [
        "model.save('modelosalvo.keras')\n"
      ],
      "metadata": {
        "id": "ro17PpYg6vQQ"
      },
      "execution_count": null,
      "outputs": []
    },
    {
      "cell_type": "code",
      "source": [
        "from keras.models import load_model\n",
        "\n",
        "modelo_carregado = load_model('/content/modelosalvo.keras')"
      ],
      "metadata": {
        "id": "2uMuZly46tlk"
      },
      "execution_count": null,
      "outputs": []
    },
    {
      "cell_type": "code",
      "source": [
        "import pandas as pd\n",
        "\n",
        "history = pd.read_csv('/content/datasetNormal.csv')"
      ],
      "metadata": {
        "id": "Mp_zV4bW6sGJ"
      },
      "execution_count": null,
      "outputs": []
    },
    {
      "cell_type": "code",
      "source": [
        "import matplotlib.pyplot as plt\n",
        "\n",
        "plt.plot(history['loss'])\n",
        "plt.plot(history['val_loss'])\n",
        "\n",
        "\n",
        "plt.ylabel('Perda')\n",
        "plt.xlabel('Época')\n",
        "plt.legend(['Treinamento', 'Validação'], loc = 'upper right')\n",
        "plt.show()"
      ],
      "metadata": {
        "id": "NuqxNJ126pwr"
      },
      "execution_count": null,
      "outputs": []
    },
    {
      "cell_type": "code",
      "source": [
        "plt.plot(history['accuracy'])\n",
        "plt.plot(history['val_accuracy'])\n",
        "plt.title('Acurácia')\n",
        "plt.ylabel('Acurácia')\n",
        "plt.xlabel('Épocas')\n",
        "plt.legend(['Treinamento', 'Validação'], loc='upper left')\n",
        "plt.grid(True)\n",
        "plt.show()\n",
        "plt.close()"
      ],
      "metadata": {
        "id": "AzOof9P-6mQY"
      },
      "execution_count": null,
      "outputs": []
    },
    {
      "cell_type": "code",
      "source": [
        "preds = modelo_carregado.predict(X_test)"
      ],
      "metadata": {
        "id": "13hNaXaA6jRt"
      },
      "execution_count": null,
      "outputs": []
    },
    {
      "cell_type": "code",
      "source": [
        "#Função da Matriz de Confusão\n",
        "\n",
        "def plot_confusion_matrix(\n",
        "        cm,\n",
        "        classes,\n",
        "        normalize=False,\n",
        "        title='Confusion matrix',\n",
        "        cmap=plt.cm.Blues\n",
        "    ):\n",
        "\n",
        "    plt.imshow(cm, interpolation='nearest', cmap=cmap)\n",
        "    #plt.title(title)\n",
        "    #plt.colorbar()\n",
        "    tick_marks = np.arange(len(classes))\n",
        "    plt.xticks(tick_marks, classes, rotation=45)\n",
        "    plt.yticks(tick_marks, classes)\n",
        "\n",
        "    if normalize:\n",
        "        cm = cm.astype('float') / cm.sum(axis=1)[:, np.newaxis]\n",
        "        print(\"Normalized confusion matrix\")\n",
        "    else:\n",
        "        print('Confusion matrix, without normalization')\n",
        "\n",
        "    print(cm)\n",
        "\n",
        "    thresh = cm.max() / 2.\n",
        "    for i, j in itertools.product(range(cm.shape[0]), range(cm.shape[1])):\n",
        "        plt.text(j, i, cm[i, j],\n",
        "                 horizontalalignment=\"center\",\n",
        "                 color=\"white\" if cm[i, j] > thresh else \"black\")\n",
        "\n",
        "    plt.tight_layout()\n",
        "    plt.ylabel('Classe real')\n",
        "    plt.xlabel('Classe predita')"
      ],
      "metadata": {
        "id": "_dwo4Ay_6e9j"
      },
      "execution_count": null,
      "outputs": []
    },
    {
      "cell_type": "code",
      "source": [
        "#Gráfico da Matriz de Confusão\n",
        "\n",
        "y_test_ = [np.argmax(x) for x in y_test]\n",
        "preds_ = [np.argmax(x) for x in preds]\n",
        "\n",
        "cm = confusion_matrix(y_test_, preds_)\n",
        "plot_confusion_matrix(cm, classes=['Thermal', 'Negative Thermal'], title='Confusion matrix')\n",
        "plt.show()\n",
        "plt.close()"
      ],
      "metadata": {
        "id": "9xraf0IH6blZ"
      },
      "execution_count": null,
      "outputs": []
    },
    {
      "cell_type": "code",
      "source": [
        "#Resultado das predições\n",
        "\n",
        "n = 4\n",
        "for t in range(4):\n",
        "    plt.figure(figsize=(10,10))\n",
        "    for i in range(n*t, n*(t+1)):\n",
        "        plt.subplot(1, n, i + 1 - n*t)\n",
        "        plt.imshow(cv2.cvtColor(X_test[i], cv2.COLOR_BGR2RGB), cmap='gray')\n",
        "        plt.title('Real: {}\\nPredito: {}'.format(classes[np.argmax(y_test[i])], classes[np.argmax(preds[i])]))\n",
        "        plt.axis('off')\n",
        "    plt.show()"
      ],
      "metadata": {
        "id": "ewvAFSdT6X4e"
      },
      "execution_count": null,
      "outputs": []
    }
  ]
}